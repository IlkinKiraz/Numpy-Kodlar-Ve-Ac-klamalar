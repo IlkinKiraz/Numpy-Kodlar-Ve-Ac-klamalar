{
 "cells": [
  {
   "cell_type": "markdown",
   "id": "f22f02a8",
   "metadata": {},
   "source": [
    "## Matematiksel İşlemler"
   ]
  },
  {
   "cell_type": "code",
   "execution_count": 1,
   "id": "3b725f4e",
   "metadata": {},
   "outputs": [],
   "source": [
    "import numpy as np"
   ]
  },
  {
   "cell_type": "code",
   "execution_count": 2,
   "id": "edd21935",
   "metadata": {},
   "outputs": [
    {
     "data": {
      "text/plain": [
       "array([1, 2, 3, 4, 5])"
      ]
     },
     "execution_count": 2,
     "metadata": {},
     "output_type": "execute_result"
    }
   ],
   "source": [
    "v = np.array([1,2,3,4,5])\n",
    "v"
   ]
  },
  {
   "cell_type": "code",
   "execution_count": 3,
   "id": "206a5884",
   "metadata": {},
   "outputs": [
    {
     "name": "stdout",
     "output_type": "stream",
     "text": [
      "[0 1 2 3 4]\n",
      "[ 5 10 15 20 25]\n",
      "[0.2 0.4 0.6 0.8 1. ]\n"
     ]
    }
   ],
   "source": [
    "print(v - 1)\n",
    "print(v * 5)\n",
    "print(v / 5)"
   ]
  },
  {
   "cell_type": "code",
   "execution_count": 4,
   "id": "9c7bebf6",
   "metadata": {},
   "outputs": [
    {
     "data": {
      "text/plain": [
       "array([0, 1, 2, 3, 4])"
      ]
     },
     "execution_count": 4,
     "metadata": {},
     "output_type": "execute_result"
    }
   ],
   "source": [
    "# v - 1 ile aynı sonucu verecektir\n",
    "\n",
    "np.subtract(v, 1)"
   ]
  },
  {
   "cell_type": "code",
   "execution_count": 8,
   "id": "15fa0c0b",
   "metadata": {},
   "outputs": [
    {
     "data": {
      "text/plain": [
       "array([2, 3, 4, 5, 6])"
      ]
     },
     "execution_count": 8,
     "metadata": {},
     "output_type": "execute_result"
    }
   ],
   "source": [
    "# v + 1 \n",
    "\n",
    "np.add(v, 1)"
   ]
  },
  {
   "cell_type": "code",
   "execution_count": 9,
   "id": "2ac7ec6d",
   "metadata": {},
   "outputs": [
    {
     "data": {
      "text/plain": [
       "array([ 4,  8, 12, 16, 20])"
      ]
     },
     "execution_count": 9,
     "metadata": {},
     "output_type": "execute_result"
    }
   ],
   "source": [
    "# v * 4\n",
    "\n",
    "np.multiply(v, 4)"
   ]
  },
  {
   "cell_type": "code",
   "execution_count": 10,
   "id": "d6679935",
   "metadata": {},
   "outputs": [
    {
     "data": {
      "text/plain": [
       "array([0.2, 0.4, 0.6, 0.8, 1. ])"
      ]
     },
     "execution_count": 10,
     "metadata": {},
     "output_type": "execute_result"
    }
   ],
   "source": [
    "# v / 5\n",
    "\n",
    "np.divide(v, 5)"
   ]
  },
  {
   "cell_type": "code",
   "execution_count": 11,
   "id": "00e883b9",
   "metadata": {},
   "outputs": [
    {
     "data": {
      "text/plain": [
       "array([  1,   8,  27,  64, 125], dtype=int32)"
      ]
     },
     "execution_count": 11,
     "metadata": {},
     "output_type": "execute_result"
    }
   ],
   "source": [
    "# v ** 3\n",
    "\n",
    "np.power(v, 3)"
   ]
  },
  {
   "cell_type": "code",
   "execution_count": 12,
   "id": "cea687fe",
   "metadata": {},
   "outputs": [
    {
     "data": {
      "text/plain": [
       "array([1, 0, 1, 0, 1], dtype=int32)"
      ]
     },
     "execution_count": 12,
     "metadata": {},
     "output_type": "execute_result"
    }
   ],
   "source": [
    "# v % 2\n",
    "\n",
    "np.mod(v, 2)"
   ]
  },
  {
   "cell_type": "code",
   "execution_count": 13,
   "id": "dc5f914e",
   "metadata": {},
   "outputs": [
    {
     "data": {
      "text/plain": [
       "array([3, 2, 5])"
      ]
     },
     "execution_count": 13,
     "metadata": {},
     "output_type": "execute_result"
    }
   ],
   "source": [
    "# mutlak değer\n",
    "\n",
    "np.absolute(np.array([-3, 2, -5]))"
   ]
  },
  {
   "cell_type": "code",
   "execution_count": 14,
   "id": "d7a52341",
   "metadata": {},
   "outputs": [
    {
     "data": {
      "text/plain": [
       "0.9589157234143065"
      ]
     },
     "execution_count": 14,
     "metadata": {},
     "output_type": "execute_result"
    }
   ],
   "source": [
    "# sinüs\n",
    "\n",
    "np.sin(360)"
   ]
  },
  {
   "cell_type": "code",
   "execution_count": 15,
   "id": "5c7fd6bc",
   "metadata": {},
   "outputs": [
    {
     "data": {
      "text/plain": [
       "-0.5984600690578581"
      ]
     },
     "execution_count": 15,
     "metadata": {},
     "output_type": "execute_result"
    }
   ],
   "source": [
    "# kosinüs\n",
    "\n",
    "np.cos(180)"
   ]
  },
  {
   "cell_type": "code",
   "execution_count": 16,
   "id": "50d4db51",
   "metadata": {},
   "outputs": [
    {
     "data": {
      "text/plain": [
       "array([1, 2, 3])"
      ]
     },
     "execution_count": 16,
     "metadata": {},
     "output_type": "execute_result"
    }
   ],
   "source": [
    "v = np.array([1,2,3])\n",
    "v"
   ]
  },
  {
   "cell_type": "code",
   "execution_count": 17,
   "id": "a1aca5d8",
   "metadata": {},
   "outputs": [
    {
     "data": {
      "text/plain": [
       "array([0.        , 0.69314718, 1.09861229])"
      ]
     },
     "execution_count": 17,
     "metadata": {},
     "output_type": "execute_result"
    }
   ],
   "source": [
    "# logaritma\n",
    "\n",
    "np.log(v)"
   ]
  },
  {
   "cell_type": "code",
   "execution_count": 18,
   "id": "c9f82d48",
   "metadata": {},
   "outputs": [
    {
     "data": {
      "text/plain": [
       "array([0.       , 1.       , 1.5849625])"
      ]
     },
     "execution_count": 18,
     "metadata": {},
     "output_type": "execute_result"
    }
   ],
   "source": [
    "# taban 2 \n",
    "\n",
    "np.log2(v)"
   ]
  },
  {
   "cell_type": "code",
   "execution_count": 19,
   "id": "7745f4e4",
   "metadata": {},
   "outputs": [
    {
     "data": {
      "text/plain": [
       "array([0.        , 0.30103   , 0.47712125])"
      ]
     },
     "execution_count": 19,
     "metadata": {},
     "output_type": "execute_result"
    }
   ],
   "source": [
    "# taban 10\n",
    "\n",
    "np.log10(v)"
   ]
  },
  {
   "cell_type": "code",
   "execution_count": 21,
   "id": "ef5333e0",
   "metadata": {},
   "outputs": [
    {
     "data": {
      "text/plain": [
       "array([1, 2, 3])"
      ]
     },
     "execution_count": 21,
     "metadata": {},
     "output_type": "execute_result"
    }
   ],
   "source": [
    "v"
   ]
  },
  {
   "cell_type": "code",
   "execution_count": 22,
   "id": "79def273",
   "metadata": {},
   "outputs": [
    {
     "data": {
      "text/plain": [
       "2.0"
      ]
     },
     "execution_count": 22,
     "metadata": {},
     "output_type": "execute_result"
    }
   ],
   "source": [
    "# ortalama\n",
    "\n",
    "np.mean(v)"
   ]
  },
  {
   "cell_type": "code",
   "execution_count": 23,
   "id": "83bf4de6",
   "metadata": {},
   "outputs": [
    {
     "data": {
      "text/plain": [
       "1"
      ]
     },
     "execution_count": 23,
     "metadata": {},
     "output_type": "execute_result"
    }
   ],
   "source": [
    "# minumum değer\n",
    "\n",
    "v.min()"
   ]
  },
  {
   "cell_type": "code",
   "execution_count": 24,
   "id": "232a1fe3",
   "metadata": {},
   "outputs": [
    {
     "data": {
      "text/plain": [
       "3"
      ]
     },
     "execution_count": 24,
     "metadata": {},
     "output_type": "execute_result"
    }
   ],
   "source": [
    "# maksimum değer\n",
    "\n",
    "v.max()"
   ]
  },
  {
   "cell_type": "code",
   "execution_count": 25,
   "id": "40834a0c",
   "metadata": {},
   "outputs": [
    {
     "data": {
      "text/plain": [
       "6"
      ]
     },
     "execution_count": 25,
     "metadata": {},
     "output_type": "execute_result"
    }
   ],
   "source": [
    "# elemanların toplamı\n",
    "\n",
    "v.sum()"
   ]
  },
  {
   "cell_type": "markdown",
   "id": "13ec10c6",
   "metadata": {},
   "source": [
    "**?np** ifadesini input katmanına koyarak çalıştırarak numpy' ın dökümanına ulaşabilirsiniz."
   ]
  },
  {
   "cell_type": "code",
   "execution_count": null,
   "id": "4fadaf0a",
   "metadata": {},
   "outputs": [],
   "source": []
  }
 ],
 "metadata": {
  "kernelspec": {
   "display_name": "Python 3",
   "language": "python",
   "name": "python3"
  },
  "language_info": {
   "codemirror_mode": {
    "name": "ipython",
    "version": 3
   },
   "file_extension": ".py",
   "mimetype": "text/x-python",
   "name": "python",
   "nbconvert_exporter": "python",
   "pygments_lexer": "ipython3",
   "version": "3.8.8"
  }
 },
 "nbformat": 4,
 "nbformat_minor": 5
}
