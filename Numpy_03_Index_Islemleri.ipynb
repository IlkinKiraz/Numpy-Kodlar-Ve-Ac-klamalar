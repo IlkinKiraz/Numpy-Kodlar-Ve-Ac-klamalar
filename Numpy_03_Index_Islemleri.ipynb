{
 "cells": [
  {
   "cell_type": "markdown",
   "id": "ffb98e8d",
   "metadata": {},
   "source": [
    "## İndex İşlemleri"
   ]
  },
  {
   "cell_type": "code",
   "execution_count": 1,
   "id": "1b5de269",
   "metadata": {},
   "outputs": [],
   "source": [
    "import numpy as np"
   ]
  },
  {
   "cell_type": "code",
   "execution_count": 2,
   "id": "6045a118",
   "metadata": {},
   "outputs": [
    {
     "data": {
      "text/plain": [
       "array([5, 9, 1, 3, 6, 4, 5, 1, 2, 8])"
      ]
     },
     "execution_count": 2,
     "metadata": {},
     "output_type": "execute_result"
    }
   ],
   "source": [
    "a = np.random.randint(10, size=10)\n",
    "a"
   ]
  },
  {
   "cell_type": "code",
   "execution_count": 3,
   "id": "160d2218",
   "metadata": {},
   "outputs": [
    {
     "data": {
      "text/plain": [
       "5"
      ]
     },
     "execution_count": 3,
     "metadata": {},
     "output_type": "execute_result"
    }
   ],
   "source": [
    "# 0. index = 1.elema\n",
    "# index hesaplarında 0' dan başlanır\n",
    "# 1. eleman 0. index değerindedir\n",
    "\n",
    "a[0]"
   ]
  },
  {
   "cell_type": "code",
   "execution_count": 4,
   "id": "6b597390",
   "metadata": {},
   "outputs": [
    {
     "data": {
      "text/plain": [
       "8"
      ]
     },
     "execution_count": 4,
     "metadata": {},
     "output_type": "execute_result"
    }
   ],
   "source": [
    "# son elelmana erişmek\n",
    "\n",
    "a[-1]"
   ]
  },
  {
   "cell_type": "code",
   "execution_count": 5,
   "id": "59462dac",
   "metadata": {},
   "outputs": [],
   "source": [
    "# 0. index değerine (1. elemana) 100 değeri atanır. yeni değeri 100 olur.\n",
    " \n",
    "a[0] = 100"
   ]
  },
  {
   "cell_type": "code",
   "execution_count": 6,
   "id": "02388a7e",
   "metadata": {},
   "outputs": [
    {
     "data": {
      "text/plain": [
       "array([100,   9,   1,   3,   6,   4,   5,   1,   2,   8])"
      ]
     },
     "execution_count": 6,
     "metadata": {},
     "output_type": "execute_result"
    }
   ],
   "source": [
    "a"
   ]
  },
  {
   "cell_type": "code",
   "execution_count": 7,
   "id": "37327fa8",
   "metadata": {},
   "outputs": [],
   "source": [
    "# matrislerde index işlemleri"
   ]
  },
  {
   "cell_type": "code",
   "execution_count": 8,
   "id": "72e784ed",
   "metadata": {},
   "outputs": [
    {
     "data": {
      "text/plain": [
       "array([[2, 1, 7],\n",
       "       [9, 0, 2],\n",
       "       [8, 5, 8]])"
      ]
     },
     "execution_count": 8,
     "metadata": {},
     "output_type": "execute_result"
    }
   ],
   "source": [
    "a = np.random.randint(10, size=(3,3))\n",
    "a"
   ]
  },
  {
   "cell_type": "code",
   "execution_count": 10,
   "id": "3a7cba24",
   "metadata": {},
   "outputs": [
    {
     "data": {
      "text/plain": [
       "1"
      ]
     },
     "execution_count": 10,
     "metadata": {},
     "output_type": "execute_result"
    }
   ],
   "source": [
    "# ilk değer satır için ikinci değer sütun içindir\n",
    "# satır için 0. index (1.eleman), sütun için 1. index (2. eleman)\n",
    "\n",
    "a[0,1]"
   ]
  },
  {
   "cell_type": "code",
   "execution_count": 11,
   "id": "430866a9",
   "metadata": {},
   "outputs": [
    {
     "data": {
      "text/plain": [
       "8"
      ]
     },
     "execution_count": 11,
     "metadata": {},
     "output_type": "execute_result"
    }
   ],
   "source": [
    "a[2,2]"
   ]
  },
  {
   "cell_type": "markdown",
   "id": "181ef065",
   "metadata": {},
   "source": [
    "___"
   ]
  },
  {
   "cell_type": "markdown",
   "id": "53a974c3",
   "metadata": {},
   "source": [
    "## Slicing ile Elemanlara Erişmek (Array Alt Küme İşlemleri)"
   ]
  },
  {
   "cell_type": "code",
   "execution_count": 12,
   "id": "57f6d393",
   "metadata": {},
   "outputs": [
    {
     "data": {
      "text/plain": [
       "array([20, 21, 22, 23, 24, 25, 26, 27, 28, 29])"
      ]
     },
     "execution_count": 12,
     "metadata": {},
     "output_type": "execute_result"
    }
   ],
   "source": [
    "a = np.arange(20, 30)\n",
    "a"
   ]
  },
  {
   "cell_type": "code",
   "execution_count": 16,
   "id": "80d013d6",
   "metadata": {},
   "outputs": [
    {
     "data": {
      "text/plain": [
       "array([20, 21, 22])"
      ]
     },
     "execution_count": 16,
     "metadata": {},
     "output_type": "execute_result"
    }
   ],
   "source": [
    "# 0. index (1. eleman) ile 3.index (4. eleman) arasındaki değerleri al\n",
    "# bu işleme 0.index dahildir. Ancak ikinci parametre olan 3.index dahil değildir\n",
    "# 0. index, 1. index, 2. index değerleri gelecektir. İkinci parametre sınırdır bu işleme dahil adilmez\n",
    "\n",
    "a[0:3]"
   ]
  },
  {
   "cell_type": "code",
   "execution_count": 17,
   "id": "4c8d6716",
   "metadata": {},
   "outputs": [
    {
     "data": {
      "text/plain": [
       "array([20, 21, 22])"
      ]
     },
     "execution_count": 17,
     "metadata": {},
     "output_type": "execute_result"
    }
   ],
   "source": [
    "# a[0:3] == a[:3] aynı işlevi gerçekleştiri\n",
    "\n",
    "a[:3]"
   ]
  },
  {
   "cell_type": "code",
   "execution_count": 18,
   "id": "a25df825",
   "metadata": {},
   "outputs": [
    {
     "data": {
      "text/plain": [
       "array([23, 24, 25, 26, 27, 28, 29])"
      ]
     },
     "execution_count": 18,
     "metadata": {},
     "output_type": "execute_result"
    }
   ],
   "source": [
    "# 3.index den başlayarak tüm indexleri alır\n",
    "\n",
    "a[3:]"
   ]
  },
  {
   "cell_type": "code",
   "execution_count": 19,
   "id": "d100158f",
   "metadata": {},
   "outputs": [
    {
     "data": {
      "text/plain": [
       "array([21, 23, 25, 27, 29])"
      ]
     },
     "execution_count": 19,
     "metadata": {},
     "output_type": "execute_result"
    }
   ],
   "source": [
    "# 1.index den başlar ve tüm indexleri alır fakat ikişer atlaarak bu işlemi yapmaktadır.\n",
    "\n",
    "a[1::2]"
   ]
  },
  {
   "cell_type": "code",
   "execution_count": 20,
   "id": "fcceee48",
   "metadata": {},
   "outputs": [],
   "source": [
    "# matrislerde slice işlemleri"
   ]
  },
  {
   "cell_type": "code",
   "execution_count": 22,
   "id": "5c3b0ff8",
   "metadata": {},
   "outputs": [
    {
     "data": {
      "text/plain": [
       "array([[6, 2, 1, 2, 5],\n",
       "       [1, 1, 1, 8, 4],\n",
       "       [7, 9, 8, 5, 0],\n",
       "       [3, 4, 9, 7, 2],\n",
       "       [9, 2, 0, 8, 8]])"
      ]
     },
     "execution_count": 22,
     "metadata": {},
     "output_type": "execute_result"
    }
   ],
   "source": [
    "a = np.random.randint(10, size = (5,5))\n",
    "a"
   ]
  },
  {
   "cell_type": "code",
   "execution_count": 24,
   "id": "d0878b9e",
   "metadata": {},
   "outputs": [
    {
     "data": {
      "text/plain": [
       "array([6, 1, 7, 3, 9])"
      ]
     },
     "execution_count": 24,
     "metadata": {},
     "output_type": "execute_result"
    }
   ],
   "source": [
    "# virgül öncesindeki parametreler satır, virgül sonrasındaki parametreler sütun içindir\n",
    "# tüm satırlarını, sütünların ise 0. indelerini almaktadır\n",
    "\n",
    "a[:, 0]"
   ]
  },
  {
   "cell_type": "code",
   "execution_count": 25,
   "id": "ab207491",
   "metadata": {},
   "outputs": [
    {
     "data": {
      "text/plain": [
       "array([1, 1, 8, 9, 0])"
      ]
     },
     "execution_count": 25,
     "metadata": {},
     "output_type": "execute_result"
    }
   ],
   "source": [
    "a[:, 2]"
   ]
  },
  {
   "cell_type": "code",
   "execution_count": 26,
   "id": "6946355f",
   "metadata": {},
   "outputs": [
    {
     "data": {
      "text/plain": [
       "array([6, 2, 1, 2, 5])"
      ]
     },
     "execution_count": 26,
     "metadata": {},
     "output_type": "execute_result"
    }
   ],
   "source": [
    "a[0, :]"
   ]
  },
  {
   "cell_type": "code",
   "execution_count": 28,
   "id": "3b7ddd8a",
   "metadata": {},
   "outputs": [
    {
     "data": {
      "text/plain": [
       "array([6, 2, 1, 2, 5])"
      ]
     },
     "execution_count": 28,
     "metadata": {},
     "output_type": "execute_result"
    }
   ],
   "source": [
    "# burada sadece satır için parametre verilmektedir\n",
    "# 0. index de bulunan tüm satırı getirir\n",
    "\n",
    "a[0]"
   ]
  },
  {
   "cell_type": "code",
   "execution_count": 29,
   "id": "1070b905",
   "metadata": {},
   "outputs": [
    {
     "data": {
      "text/plain": [
       "array([[6, 2, 1],\n",
       "       [1, 1, 1]])"
      ]
     },
     "execution_count": 29,
     "metadata": {},
     "output_type": "execute_result"
    }
   ],
   "source": [
    "a[0:2, 0:3]"
   ]
  },
  {
   "cell_type": "code",
   "execution_count": 30,
   "id": "46730997",
   "metadata": {},
   "outputs": [
    {
     "data": {
      "text/plain": [
       "array([[6, 2],\n",
       "       [1, 1],\n",
       "       [7, 9],\n",
       "       [3, 4],\n",
       "       [9, 2]])"
      ]
     },
     "execution_count": 30,
     "metadata": {},
     "output_type": "execute_result"
    }
   ],
   "source": [
    "a[:,:2]"
   ]
  },
  {
   "cell_type": "markdown",
   "id": "87c8917e",
   "metadata": {},
   "source": [
    "___"
   ]
  },
  {
   "cell_type": "markdown",
   "id": "4e909786",
   "metadata": {},
   "source": [
    "## Alt Küme Üzerinde İşlem Yapmak"
   ]
  },
  {
   "cell_type": "markdown",
   "id": "02b9efe6",
   "metadata": {},
   "source": [
    "slicing işlemi yapılarak herhangi bir değişkene atama işlemi gerçekleitirilirse, bu meydana gelecek değişiklik tüm array üzerinde kalıcı olarak yapılacaktır.\n",
    "<br><br>\n",
    "Bu nedenşer \"copy\" ibaresinden yararlanmalıyız!"
   ]
  },
  {
   "cell_type": "code",
   "execution_count": 31,
   "id": "4e2339dc",
   "metadata": {},
   "outputs": [
    {
     "data": {
      "text/plain": [
       "array([[5, 7, 0, 6, 7],\n",
       "       [5, 5, 5, 6, 8],\n",
       "       [2, 9, 1, 4, 0],\n",
       "       [2, 9, 3, 6, 7],\n",
       "       [7, 1, 3, 9, 5]])"
      ]
     },
     "execution_count": 31,
     "metadata": {},
     "output_type": "execute_result"
    }
   ],
   "source": [
    "a = np.random.randint(10, size = (5,5))\n",
    "a"
   ]
  },
  {
   "cell_type": "code",
   "execution_count": 32,
   "id": "313a09ba",
   "metadata": {},
   "outputs": [
    {
     "data": {
      "text/plain": [
       "array([[5, 7],\n",
       "       [5, 5],\n",
       "       [2, 9]])"
      ]
     },
     "execution_count": 32,
     "metadata": {},
     "output_type": "execute_result"
    }
   ],
   "source": [
    "alt_a = a[0:3, 0:2]\n",
    "alt_a"
   ]
  },
  {
   "cell_type": "code",
   "execution_count": 33,
   "id": "9f92b7f0",
   "metadata": {},
   "outputs": [],
   "source": [
    "# alt_a değişkeni üzerinde değişiklik yapılmıştır. Ancak a değişkenine atamış olduğumuz Numoy arrayı üzerinde bu değişiklik meydana gelmektedir.\n",
    "\n",
    "alt_a[0,0] = 99999\n",
    "alt_a[1,1] = 88888"
   ]
  },
  {
   "cell_type": "code",
   "execution_count": 34,
   "id": "dbf3d527",
   "metadata": {},
   "outputs": [
    {
     "data": {
      "text/plain": [
       "array([[99999,     7,     0,     6,     7],\n",
       "       [    5, 88888,     5,     6,     8],\n",
       "       [    2,     9,     1,     4,     0],\n",
       "       [    2,     9,     3,     6,     7],\n",
       "       [    7,     1,     3,     9,     5]])"
      ]
     },
     "execution_count": 34,
     "metadata": {},
     "output_type": "execute_result"
    }
   ],
   "source": [
    "# bu problemi gözlemleyim\n",
    "\n",
    "a"
   ]
  },
  {
   "cell_type": "code",
   "execution_count": 35,
   "id": "d57a0273",
   "metadata": {},
   "outputs": [],
   "source": [
    "# görüleceği gibi belirtilen indexlere \"99999\" ve \"88888\" değerleri atanmıştır"
   ]
  },
  {
   "cell_type": "code",
   "execution_count": 36,
   "id": "d15e54b0",
   "metadata": {},
   "outputs": [],
   "source": [
    "# bu noktada copy() metodunu kullanmalıyız"
   ]
  },
  {
   "cell_type": "code",
   "execution_count": 40,
   "id": "30dfb940",
   "metadata": {},
   "outputs": [
    {
     "data": {
      "text/plain": [
       "array([[7, 3, 6, 8, 5],\n",
       "       [2, 4, 5, 0, 6],\n",
       "       [0, 0, 1, 0, 4],\n",
       "       [8, 6, 9, 3, 5],\n",
       "       [7, 2, 9, 6, 8]])"
      ]
     },
     "execution_count": 40,
     "metadata": {},
     "output_type": "execute_result"
    }
   ],
   "source": [
    "a = np.random.randint(10, size = (5,5))\n",
    "\n",
    "alt_b = a[0:3, 0:2].copy()\n",
    "\n",
    "a"
   ]
  },
  {
   "cell_type": "code",
   "execution_count": 41,
   "id": "acb2a0c9",
   "metadata": {},
   "outputs": [],
   "source": [
    "alt_b[0,0] = 99999"
   ]
  },
  {
   "cell_type": "code",
   "execution_count": 42,
   "id": "b45b799b",
   "metadata": {},
   "outputs": [
    {
     "data": {
      "text/plain": [
       "array([[7, 3, 6, 8, 5],\n",
       "       [2, 4, 5, 0, 6],\n",
       "       [0, 0, 1, 0, 4],\n",
       "       [8, 6, 9, 3, 5],\n",
       "       [7, 2, 9, 6, 8]])"
      ]
     },
     "execution_count": 42,
     "metadata": {},
     "output_type": "execute_result"
    }
   ],
   "source": [
    "a"
   ]
  },
  {
   "cell_type": "code",
   "execution_count": 43,
   "id": "091eaada",
   "metadata": {},
   "outputs": [],
   "source": [
    "# gözlemlendiği gibi a değişkenine bağlı matris değerlerinde herhangi bir değişiklik olmamıştır."
   ]
  },
  {
   "cell_type": "markdown",
   "id": "61098311",
   "metadata": {},
   "source": [
    "___"
   ]
  },
  {
   "cell_type": "markdown",
   "id": "7a224bcd",
   "metadata": {},
   "source": [
    "## Fancy Index ile Elemanlara Erişmek"
   ]
  },
  {
   "cell_type": "code",
   "execution_count": 44,
   "id": "b3ba1332",
   "metadata": {},
   "outputs": [
    {
     "data": {
      "text/plain": [
       "array([ 0,  3,  6,  9, 12, 15, 18, 21, 24, 27])"
      ]
     },
     "execution_count": 44,
     "metadata": {},
     "output_type": "execute_result"
    }
   ],
   "source": [
    "v = np.arange(0, 30, 3)\n",
    "v"
   ]
  },
  {
   "cell_type": "code",
   "execution_count": 45,
   "id": "cce28f60",
   "metadata": {},
   "outputs": [],
   "source": [
    "v_fancy = [2, 4, 7]"
   ]
  },
  {
   "cell_type": "code",
   "execution_count": 47,
   "id": "8c299e5a",
   "metadata": {},
   "outputs": [
    {
     "data": {
      "text/plain": [
       "array([ 6, 12, 21])"
      ]
     },
     "execution_count": 47,
     "metadata": {},
     "output_type": "execute_result"
    }
   ],
   "source": [
    "# aşağıdaki işleme fancy index yaklaşımı denilmektedir\n",
    "\n",
    "v[v_fancy]"
   ]
  },
  {
   "cell_type": "code",
   "execution_count": 48,
   "id": "44e0ff63",
   "metadata": {},
   "outputs": [],
   "source": [
    "# matrislerde fancy index yaklaşımı"
   ]
  },
  {
   "cell_type": "code",
   "execution_count": 49,
   "id": "bc8d7167",
   "metadata": {},
   "outputs": [
    {
     "data": {
      "text/plain": [
       "array([[0, 1, 2],\n",
       "       [3, 4, 5],\n",
       "       [6, 7, 8]])"
      ]
     },
     "execution_count": 49,
     "metadata": {},
     "output_type": "execute_result"
    }
   ],
   "source": [
    "m = np.arange(9).reshape(3,3)\n",
    "m"
   ]
  },
  {
   "cell_type": "code",
   "execution_count": 50,
   "id": "80d3b8b6",
   "metadata": {},
   "outputs": [],
   "source": [
    "# burada istediğimiz satır ve sütun indexlerini değişkenlere atamaktayız.\n",
    "\n",
    "satir = np.array([0,1])\n",
    "sutun = np.array([1,2])"
   ]
  },
  {
   "cell_type": "code",
   "execution_count": 51,
   "id": "6269867e",
   "metadata": {},
   "outputs": [
    {
     "data": {
      "text/plain": [
       "array([1, 5])"
      ]
     },
     "execution_count": 51,
     "metadata": {},
     "output_type": "execute_result"
    }
   ],
   "source": [
    "m[satir, sutun]"
   ]
  },
  {
   "cell_type": "code",
   "execution_count": 52,
   "id": "92be9ef3",
   "metadata": {},
   "outputs": [
    {
     "data": {
      "text/plain": [
       "array([1, 2])"
      ]
     },
     "execution_count": 52,
     "metadata": {},
     "output_type": "execute_result"
    }
   ],
   "source": [
    "# burada elde ettiğimiz sonuç bir array' dir.\n",
    "\n",
    "m[0, [1,2]]"
   ]
  },
  {
   "cell_type": "code",
   "execution_count": 54,
   "id": "6ad67695",
   "metadata": {},
   "outputs": [
    {
     "data": {
      "text/plain": [
       "2"
      ]
     },
     "execution_count": 54,
     "metadata": {},
     "output_type": "execute_result"
    }
   ],
   "source": [
    "# burada elde ettiğimiz sonuç ise int bir değerdir.\n",
    "\n",
    "m[0, 2]"
   ]
  },
  {
   "cell_type": "code",
   "execution_count": 55,
   "id": "d90827dd",
   "metadata": {},
   "outputs": [],
   "source": [
    "# fancy index yaklaşımı farkı budur"
   ]
  },
  {
   "cell_type": "code",
   "execution_count": 56,
   "id": "b880fb23",
   "metadata": {},
   "outputs": [
    {
     "data": {
      "text/plain": [
       "array([[1, 2],\n",
       "       [4, 5],\n",
       "       [7, 8]])"
      ]
     },
     "execution_count": 56,
     "metadata": {},
     "output_type": "execute_result"
    }
   ],
   "source": [
    "# slice & fancy\n",
    "\n",
    "m[0:, [1,2]]\n",
    "\n",
    "# virgül öncesi işlem slice, virgül sonrası işlem fancy' dir."
   ]
  },
  {
   "cell_type": "markdown",
   "id": "22805164",
   "metadata": {},
   "source": [
    "___"
   ]
  },
  {
   "cell_type": "markdown",
   "id": "5b1e4d77",
   "metadata": {},
   "source": [
    "## Koşullu Eleman İşlemleri"
   ]
  },
  {
   "cell_type": "code",
   "execution_count": 57,
   "id": "214b99ec",
   "metadata": {},
   "outputs": [],
   "source": [
    "v = np.array([1,2,3,4,5,6])"
   ]
  },
  {
   "cell_type": "code",
   "execution_count": 58,
   "id": "5b0446db",
   "metadata": {},
   "outputs": [
    {
     "data": {
      "text/plain": [
       "array([False, False, False, False, False,  True])"
      ]
     },
     "execution_count": 58,
     "metadata": {},
     "output_type": "execute_result"
    }
   ],
   "source": [
    "# v değişkenine atadığımız array içerinde 5 den büyük olan elemaları sorgu işlemine tabi tutar boolean değerler döndürür\n",
    "\n",
    "v > 5"
   ]
  },
  {
   "cell_type": "code",
   "execution_count": 59,
   "id": "a2c606f9",
   "metadata": {},
   "outputs": [
    {
     "data": {
      "text/plain": [
       "array([ True,  True, False, False, False, False])"
      ]
     },
     "execution_count": 59,
     "metadata": {},
     "output_type": "execute_result"
    }
   ],
   "source": [
    "v < 3"
   ]
  },
  {
   "cell_type": "code",
   "execution_count": 60,
   "id": "1689b9be",
   "metadata": {},
   "outputs": [
    {
     "data": {
      "text/plain": [
       "array([1, 2])"
      ]
     },
     "execution_count": 60,
     "metadata": {},
     "output_type": "execute_result"
    }
   ],
   "source": [
    "v[v < 3]"
   ]
  },
  {
   "cell_type": "code",
   "execution_count": 63,
   "id": "e396d294",
   "metadata": {},
   "outputs": [
    {
     "data": {
      "text/plain": [
       "array([1, 2])"
      ]
     },
     "execution_count": 63,
     "metadata": {},
     "output_type": "execute_result"
    }
   ],
   "source": [
    "# 3 den büyük olan değerleri array formatında getirir\n",
    "\n",
    "v[ v < 3]"
   ]
  },
  {
   "cell_type": "code",
   "execution_count": 64,
   "id": "6972983d",
   "metadata": {},
   "outputs": [
    {
     "data": {
      "text/plain": [
       "array([1, 2, 3])"
      ]
     },
     "execution_count": 64,
     "metadata": {},
     "output_type": "execute_result"
    }
   ],
   "source": [
    "v[v <= 3]"
   ]
  },
  {
   "cell_type": "code",
   "execution_count": 65,
   "id": "697fa116",
   "metadata": {},
   "outputs": [
    {
     "data": {
      "text/plain": [
       "array([1, 2, 4, 5, 6])"
      ]
     },
     "execution_count": 65,
     "metadata": {},
     "output_type": "execute_result"
    }
   ],
   "source": [
    "v[v != 3]"
   ]
  },
  {
   "cell_type": "code",
   "execution_count": 66,
   "id": "ccbbb3cc",
   "metadata": {},
   "outputs": [
    {
     "data": {
      "text/plain": [
       "array([ 2,  4,  6,  8, 10, 12])"
      ]
     },
     "execution_count": 66,
     "metadata": {},
     "output_type": "execute_result"
    }
   ],
   "source": [
    "# array içerisindeki tüm elemanları 2 değeri ile çarpar\n",
    "\n",
    "v * 2"
   ]
  },
  {
   "cell_type": "code",
   "execution_count": 67,
   "id": "4ba5efcd",
   "metadata": {},
   "outputs": [
    {
     "data": {
      "text/plain": [
       "array([0.2, 0.4, 0.6, 0.8, 1. , 1.2])"
      ]
     },
     "execution_count": 67,
     "metadata": {},
     "output_type": "execute_result"
    }
   ],
   "source": [
    "v / 5"
   ]
  },
  {
   "cell_type": "code",
   "execution_count": 68,
   "id": "e943affe",
   "metadata": {},
   "outputs": [
    {
     "data": {
      "text/plain": [
       "array([0.5, 1. , 1.5, 2. , 2.5, 3. ])"
      ]
     },
     "execution_count": 68,
     "metadata": {},
     "output_type": "execute_result"
    }
   ],
   "source": [
    "v * 5 / 10"
   ]
  },
  {
   "cell_type": "code",
   "execution_count": 69,
   "id": "de4ee9f1",
   "metadata": {},
   "outputs": [
    {
     "data": {
      "text/plain": [
       "array([ 1,  4,  9, 16, 25, 36], dtype=int32)"
      ]
     },
     "execution_count": 69,
     "metadata": {},
     "output_type": "execute_result"
    }
   ],
   "source": [
    "v**2"
   ]
  },
  {
   "cell_type": "code",
   "execution_count": null,
   "id": "e5680fd4",
   "metadata": {},
   "outputs": [],
   "source": []
  }
 ],
 "metadata": {
  "kernelspec": {
   "display_name": "Python 3",
   "language": "python",
   "name": "python3"
  },
  "language_info": {
   "codemirror_mode": {
    "name": "ipython",
    "version": 3
   },
   "file_extension": ".py",
   "mimetype": "text/x-python",
   "name": "python",
   "nbconvert_exporter": "python",
   "pygments_lexer": "ipython3",
   "version": "3.8.8"
  }
 },
 "nbformat": 4,
 "nbformat_minor": 5
}
