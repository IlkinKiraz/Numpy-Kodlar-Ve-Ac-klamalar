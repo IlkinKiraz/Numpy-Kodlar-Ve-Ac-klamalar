{
 "cells": [
  {
   "cell_type": "markdown",
   "id": "3dbc21a6",
   "metadata": {},
   "source": [
    "## Array Biçimlendirme işlemleri"
   ]
  },
  {
   "cell_type": "markdown",
   "id": "f11dd9c2",
   "metadata": {},
   "source": [
    "**ndim:** boyut sayısı\n",
    "<br>**shape:** boyut bilgisi\n",
    "<br>**size:** toplam eleman sayısı\n",
    "<br>**dtype:** array veri tipi"
   ]
  },
  {
   "cell_type": "code",
   "execution_count": 2,
   "id": "b43becd4",
   "metadata": {},
   "outputs": [],
   "source": [
    "import numpy as np"
   ]
  },
  {
   "cell_type": "code",
   "execution_count": 5,
   "id": "51353aae",
   "metadata": {},
   "outputs": [
    {
     "data": {
      "text/plain": [
       "array([6, 5, 1, 8, 1, 0, 4, 3, 6, 6])"
      ]
     },
     "execution_count": 5,
     "metadata": {},
     "output_type": "execute_result"
    }
   ],
   "source": [
    "# 0 ile 10 aralığında 10 elemalı numpy array oluşturur\n",
    "\n",
    "np.random.randint(10, size = 10)"
   ]
  },
  {
   "cell_type": "code",
   "execution_count": 6,
   "id": "2e2b2a40",
   "metadata": {},
   "outputs": [
    {
     "data": {
      "text/plain": [
       "4"
      ]
     },
     "execution_count": 6,
     "metadata": {},
     "output_type": "execute_result"
    }
   ],
   "source": [
    "# bu şekilde olursa sadece 0 ile 10 değerleri aralığında 1 adet değer üretecektir\n",
    "\n",
    "np.random.randint(10)"
   ]
  },
  {
   "cell_type": "code",
   "execution_count": 7,
   "id": "300dcfa1",
   "metadata": {},
   "outputs": [],
   "source": [
    "a = np.random.randint(10, size = 10)"
   ]
  },
  {
   "cell_type": "code",
   "execution_count": 8,
   "id": "951ecbc6",
   "metadata": {},
   "outputs": [
    {
     "data": {
      "text/plain": [
       "1"
      ]
     },
     "execution_count": 8,
     "metadata": {},
     "output_type": "execute_result"
    }
   ],
   "source": [
    "# boyut sayısı hakkında bilgi almak\n",
    "\n",
    "a.ndim"
   ]
  },
  {
   "cell_type": "code",
   "execution_count": 9,
   "id": "392339bd",
   "metadata": {},
   "outputs": [
    {
     "data": {
      "text/plain": [
       "(10,)"
      ]
     },
     "execution_count": 9,
     "metadata": {},
     "output_type": "execute_result"
    }
   ],
   "source": [
    "# a değişkenine atanmış array tek boyutlu olduğu için sadece tek boyut hakkında bilgi verir\n",
    "# içerisinde ka. adet eleman olduğunu belirtir\n",
    "\n",
    "a.shape"
   ]
  },
  {
   "cell_type": "code",
   "execution_count": 12,
   "id": "07c66af2",
   "metadata": {},
   "outputs": [
    {
     "data": {
      "text/plain": [
       "10"
      ]
     },
     "execution_count": 12,
     "metadata": {},
     "output_type": "execute_result"
    }
   ],
   "source": [
    "# numpy array içerisindeki toplam eleman sayısı\n",
    "# iki boyutlu bir array üzeründe kullanacak olsaydık tüm barray üzerindeki elelmaların sayısı hakkında bilgi verecektir\n",
    "\n",
    "a.size"
   ]
  },
  {
   "cell_type": "code",
   "execution_count": 13,
   "id": "6684cecc",
   "metadata": {},
   "outputs": [
    {
     "data": {
      "text/plain": [
       "dtype('int32')"
      ]
     },
     "execution_count": 13,
     "metadata": {},
     "output_type": "execute_result"
    }
   ],
   "source": [
    "# numpy array veri tipi bilgisi verir\n",
    "\n",
    "a.dtype"
   ]
  },
  {
   "cell_type": "markdown",
   "id": "9d2da74d",
   "metadata": {},
   "source": [
    "___"
   ]
  },
  {
   "cell_type": "markdown",
   "id": "f2d717ea",
   "metadata": {},
   "source": [
    "## Reshaping (Yeniden Şekillendirme)"
   ]
  },
  {
   "cell_type": "code",
   "execution_count": 15,
   "id": "58d78bf0",
   "metadata": {},
   "outputs": [],
   "source": [
    "a = np.arange(1, 11)"
   ]
  },
  {
   "cell_type": "code",
   "execution_count": 16,
   "id": "e9471e7e",
   "metadata": {},
   "outputs": [
    {
     "data": {
      "text/plain": [
       "array([ 1,  2,  3,  4,  5,  6,  7,  8,  9, 10])"
      ]
     },
     "execution_count": 16,
     "metadata": {},
     "output_type": "execute_result"
    }
   ],
   "source": [
    "a"
   ]
  },
  {
   "cell_type": "code",
   "execution_count": 19,
   "id": "1296a250",
   "metadata": {},
   "outputs": [
    {
     "data": {
      "text/plain": [
       "array([[ 1,  2,  3,  4,  5],\n",
       "       [ 6,  7,  8,  9, 10]])"
      ]
     },
     "execution_count": 19,
     "metadata": {},
     "output_type": "execute_result"
    }
   ],
   "source": [
    "# reshape kullanrak 10 elemanlı ve tek boyutlu olan numpy array 2 satır, 5 sütun oluşan bir numpy array haline gelir \n",
    "# 2 * 5 = 10 değeri olduğu için dönüştürmeye çalıştığımız numpy array' in eleman sayısı bu değer ile aynı olmalıdır\n",
    "\n",
    "a.reshape(2, 5)"
   ]
  },
  {
   "cell_type": "markdown",
   "id": "df6c9c2c",
   "metadata": {},
   "source": [
    "tek boyutlu array **\"vektör\"** adı verilir.\n",
    "<br> iki boyutlu array **\"matris\"** adı verilir."
   ]
  },
  {
   "cell_type": "markdown",
   "id": "57e7c21c",
   "metadata": {},
   "source": [
    "____"
   ]
  },
  {
   "cell_type": "markdown",
   "id": "5c0dddf0",
   "metadata": {},
   "source": [
    "## Concantenation (Birleştirme)"
   ]
  },
  {
   "cell_type": "code",
   "execution_count": 20,
   "id": "4f11f41e",
   "metadata": {},
   "outputs": [],
   "source": [
    "x = np.array([1, 2, 3])\n",
    "y = np.array([4, 5, 6])"
   ]
  },
  {
   "cell_type": "code",
   "execution_count": 21,
   "id": "fd8f5500",
   "metadata": {},
   "outputs": [
    {
     "data": {
      "text/plain": [
       "array([1, 2, 3, 4, 5, 6])"
      ]
     },
     "execution_count": 21,
     "metadata": {},
     "output_type": "execute_result"
    }
   ],
   "source": [
    "# yularıdaki x ve y numpy arrayler yan yana birleştirilir\n",
    "\n",
    "np.concatenate([x, y])"
   ]
  },
  {
   "cell_type": "code",
   "execution_count": 22,
   "id": "f8587fd3",
   "metadata": {},
   "outputs": [],
   "source": [
    "z = np.array([7, 8, 9])"
   ]
  },
  {
   "cell_type": "code",
   "execution_count": 23,
   "id": "1fa25e80",
   "metadata": {},
   "outputs": [
    {
     "data": {
      "text/plain": [
       "array([1, 2, 3, 4, 5, 6, 1, 2, 3])"
      ]
     },
     "execution_count": 23,
     "metadata": {},
     "output_type": "execute_result"
    }
   ],
   "source": [
    "np.concatenate([x, y, x])"
   ]
  },
  {
   "cell_type": "code",
   "execution_count": 24,
   "id": "9b4f4f81",
   "metadata": {},
   "outputs": [
    {
     "data": {
      "text/plain": [
       "array([[1, 2, 3],\n",
       "       [4, 5, 6],\n",
       "       [1, 2, 3],\n",
       "       [4, 5, 6]])"
      ]
     },
     "execution_count": 24,
     "metadata": {},
     "output_type": "execute_result"
    }
   ],
   "source": [
    "# birleştirme işlemi matrisler (iki boyutlu array) üzerinde de yapılabilir.\n",
    "\n",
    "a = np.array([[1,2,3],\n",
    "              [4,5,6]])\n",
    "\n",
    "np.concatenate([a, a])"
   ]
  },
  {
   "cell_type": "code",
   "execution_count": 25,
   "id": "35e422ec",
   "metadata": {},
   "outputs": [
    {
     "data": {
      "text/plain": [
       "array([[1, 2, 3],\n",
       "       [4, 5, 6],\n",
       "       [1, 2, 3],\n",
       "       [4, 5, 6]])"
      ]
     },
     "execution_count": 25,
     "metadata": {},
     "output_type": "execute_result"
    }
   ],
   "source": [
    "# axis paremetresi ile satır veya sütun bazında birleştirme yapılabilmektedir.\n",
    "# 0 değeri satır, 1 değeri ise sütun anlamına gelir\n",
    "# eğer axis paremetresi çağırılmazsa \"concatenate()\" varsayılan olarak axis = 0 değeri kullanır\n",
    "\n",
    "np.concatenate([a,a], axis = 0)"
   ]
  },
  {
   "cell_type": "code",
   "execution_count": 26,
   "id": "90cc0a69",
   "metadata": {},
   "outputs": [
    {
     "data": {
      "text/plain": [
       "array([[1, 2, 3, 1, 2, 3],\n",
       "       [4, 5, 6, 4, 5, 6]])"
      ]
     },
     "execution_count": 26,
     "metadata": {},
     "output_type": "execute_result"
    }
   ],
   "source": [
    "# sütun bazında birleştirme\n",
    "\n",
    "np.concatenate([a,a], axis = 1)"
   ]
  },
  {
   "cell_type": "markdown",
   "id": "a715d7eb",
   "metadata": {},
   "source": [
    "____"
   ]
  },
  {
   "cell_type": "markdown",
   "id": "1210a340",
   "metadata": {},
   "source": [
    "## Splitting (Ayırma)"
   ]
  },
  {
   "cell_type": "code",
   "execution_count": 27,
   "id": "a4da3018",
   "metadata": {},
   "outputs": [],
   "source": [
    "x = np.array([1,2,3,99,99,3,2,1])"
   ]
  },
  {
   "cell_type": "code",
   "execution_count": 29,
   "id": "1c4f4dec",
   "metadata": {},
   "outputs": [
    {
     "data": {
      "text/plain": [
       "[array([1, 2, 3]), array([99, 99]), array([3, 2, 1])]"
      ]
     },
     "execution_count": 29,
     "metadata": {},
     "output_type": "execute_result"
    }
   ],
   "source": [
    "np.split(x, [3, 5])\n",
    "\n",
    "# x değerine atamış olduğumuz numpy array içerinden ilk 3 elemanı \n",
    "# daha sonra 5'e kadar olan ksımı (ilk 3 eleman hariç, çünkü ilk olarak alınmışlardır) \n",
    "# ve son olarak geriye kalan elemaları alır"
   ]
  },
  {
   "cell_type": "code",
   "execution_count": 30,
   "id": "1ad61bb4",
   "metadata": {},
   "outputs": [],
   "source": [
    "# almış olduğumuz 3 farklı çıktıyı, 3 farklı değişkene atanabilir\n",
    "\n",
    "a, b, c = np.split(x, [3, 5])"
   ]
  },
  {
   "cell_type": "code",
   "execution_count": 32,
   "id": "8e6a4e0b",
   "metadata": {},
   "outputs": [
    {
     "name": "stdout",
     "output_type": "stream",
     "text": [
      "[1 2 3]\n",
      "[99 99]\n",
      "[3 2 1]\n"
     ]
    }
   ],
   "source": [
    "print(a)\n",
    "print(b)\n",
    "print(c)"
   ]
  },
  {
   "cell_type": "code",
   "execution_count": 33,
   "id": "7b4fabb3",
   "metadata": {},
   "outputs": [],
   "source": [
    "# matrislerde split (ayırma) işlemi"
   ]
  },
  {
   "cell_type": "code",
   "execution_count": 34,
   "id": "78912961",
   "metadata": {},
   "outputs": [
    {
     "data": {
      "text/plain": [
       "array([[ 0,  1,  2,  3],\n",
       "       [ 4,  5,  6,  7],\n",
       "       [ 8,  9, 10, 11],\n",
       "       [12, 13, 14, 15]])"
      ]
     },
     "execution_count": 34,
     "metadata": {},
     "output_type": "execute_result"
    }
   ],
   "source": [
    "# 16 elemanlı bir array oşuşturulur ve 4 satır, 4 sütundan oluşan matris haline geitirlir\n",
    "# arange ve reshape tek satırda kullanımı\n",
    "\n",
    "m = np.arange(16).reshape(4,4)\n",
    "\n",
    "m"
   ]
  },
  {
   "cell_type": "code",
   "execution_count": 35,
   "id": "9eae38b1",
   "metadata": {},
   "outputs": [
    {
     "data": {
      "text/plain": [
       "[array([[0, 1, 2, 3],\n",
       "        [4, 5, 6, 7]]),\n",
       " array([[ 8,  9, 10, 11],\n",
       "        [12, 13, 14, 15]])]"
      ]
     },
     "execution_count": 35,
     "metadata": {},
     "output_type": "execute_result"
    }
   ],
   "source": [
    "# m değişkenine atanmış matrisi ikiye bölme işlemi\n",
    "\n",
    "np.vsplit(m, [2])"
   ]
  },
  {
   "cell_type": "code",
   "execution_count": 36,
   "id": "34164636",
   "metadata": {},
   "outputs": [],
   "source": [
    "# iki çıktıyı, iki farklı değişkene atama işlemi\n",
    "\n",
    "ust, alt = np.vsplit(m, [2])"
   ]
  },
  {
   "cell_type": "code",
   "execution_count": 37,
   "id": "4856ba37",
   "metadata": {},
   "outputs": [
    {
     "name": "stdout",
     "output_type": "stream",
     "text": [
      "[[0 1 2 3]\n",
      " [4 5 6 7]]\n",
      "[[ 8  9 10 11]\n",
      " [12 13 14 15]]\n"
     ]
    }
   ],
   "source": [
    "print(ust)\n",
    "print(alt)"
   ]
  },
  {
   "cell_type": "code",
   "execution_count": 38,
   "id": "212f0e28",
   "metadata": {},
   "outputs": [],
   "source": [
    "# ancak bu işlem satır bazında yapılmıştır"
   ]
  },
  {
   "cell_type": "code",
   "execution_count": 39,
   "id": "3efdec95",
   "metadata": {},
   "outputs": [
    {
     "data": {
      "text/plain": [
       "[array([[ 0,  1],\n",
       "        [ 4,  5],\n",
       "        [ 8,  9],\n",
       "        [12, 13]]),\n",
       " array([[ 2,  3],\n",
       "        [ 6,  7],\n",
       "        [10, 11],\n",
       "        [14, 15]])]"
      ]
     },
     "execution_count": 39,
     "metadata": {},
     "output_type": "execute_result"
    }
   ],
   "source": [
    "# hsplit ile sütun bazında da yapılabilir\n",
    "\n",
    "np.hsplit(m, [2])"
   ]
  },
  {
   "cell_type": "code",
   "execution_count": 40,
   "id": "968ad5d6",
   "metadata": {},
   "outputs": [],
   "source": [
    "sag, sol = np.hsplit(m, [2])"
   ]
  },
  {
   "cell_type": "code",
   "execution_count": 41,
   "id": "36c4ff00",
   "metadata": {},
   "outputs": [
    {
     "name": "stdout",
     "output_type": "stream",
     "text": [
      "[[ 0  1]\n",
      " [ 4  5]\n",
      " [ 8  9]\n",
      " [12 13]]\n",
      "[[ 2  3]\n",
      " [ 6  7]\n",
      " [10 11]\n",
      " [14 15]]\n"
     ]
    }
   ],
   "source": [
    "print(sag)\n",
    "print(sol)"
   ]
  },
  {
   "cell_type": "markdown",
   "id": "cd7d72e0",
   "metadata": {},
   "source": [
    "___"
   ]
  },
  {
   "cell_type": "markdown",
   "id": "27be66e5",
   "metadata": {},
   "source": [
    "## Sorting (Sıralama)"
   ]
  },
  {
   "cell_type": "code",
   "execution_count": 42,
   "id": "ec8546ca",
   "metadata": {},
   "outputs": [
    {
     "data": {
      "text/plain": [
       "array([2, 1, 4, 3, 5])"
      ]
     },
     "execution_count": 42,
     "metadata": {},
     "output_type": "execute_result"
    }
   ],
   "source": [
    "z = np.array([2,1,4,3,5])\n",
    "z"
   ]
  },
  {
   "cell_type": "code",
   "execution_count": 43,
   "id": "a7844aeb",
   "metadata": {},
   "outputs": [
    {
     "data": {
      "text/plain": [
       "array([1, 2, 3, 4, 5])"
      ]
     },
     "execution_count": 43,
     "metadata": {},
     "output_type": "execute_result"
    }
   ],
   "source": [
    "# bu şekilde z değişkenine atanmış olan numpy array elemanları sıralama işlemine tabi tutulur\n",
    "\n",
    "np.sort(z)"
   ]
  },
  {
   "cell_type": "code",
   "execution_count": 44,
   "id": "7d702a9f",
   "metadata": {},
   "outputs": [],
   "source": [
    "# z.sort() şeklinde kullanımıda vardır ancak bu verimiz üzerinde kalıcı değişiklik yapmaktadır\n",
    "# ancak ana veri seti üzerinde kalıcı değişiklik yapmak istiyeciğimiz bir durum değildir."
   ]
  },
  {
   "cell_type": "code",
   "execution_count": 47,
   "id": "40e9a2d3",
   "metadata": {},
   "outputs": [],
   "source": [
    "# matrisler üzerinde sort (sıralama) işlemi"
   ]
  },
  {
   "cell_type": "code",
   "execution_count": 48,
   "id": "24f98c1a",
   "metadata": {},
   "outputs": [
    {
     "data": {
      "text/plain": [
       "array([[18.78984714, 18.08519457, 18.52344768],\n",
       "       [22.02783243, 10.29144108, 22.56044484],\n",
       "       [22.31738579,  9.06751796, 21.47678171]])"
      ]
     },
     "execution_count": 48,
     "metadata": {},
     "output_type": "execute_result"
    }
   ],
   "source": [
    "# oratlaması 20, standar sapması 5 olan bir martis oluşturmak\n",
    "\n",
    "m = np.random.normal(20,5, (3,3))\n",
    "m"
   ]
  },
  {
   "cell_type": "code",
   "execution_count": 49,
   "id": "ca5a212c",
   "metadata": {},
   "outputs": [
    {
     "data": {
      "text/plain": [
       "array([[18.08519457, 18.52344768, 18.78984714],\n",
       "       [10.29144108, 22.02783243, 22.56044484],\n",
       "       [ 9.06751796, 21.47678171, 22.31738579]])"
      ]
     },
     "execution_count": 49,
     "metadata": {},
     "output_type": "execute_result"
    }
   ],
   "source": [
    "np.sort(m)"
   ]
  },
  {
   "cell_type": "code",
   "execution_count": 50,
   "id": "d160ef86",
   "metadata": {},
   "outputs": [],
   "source": [
    "# yukarıda görüldüğü gibi satırları kendi içerisinde sıralama işlemi yapmıştır"
   ]
  },
  {
   "cell_type": "code",
   "execution_count": 51,
   "id": "4a7800db",
   "metadata": {},
   "outputs": [
    {
     "data": {
      "text/plain": [
       "array([[18.08519457, 18.52344768, 18.78984714],\n",
       "       [10.29144108, 22.02783243, 22.56044484],\n",
       "       [ 9.06751796, 21.47678171, 22.31738579]])"
      ]
     },
     "execution_count": 51,
     "metadata": {},
     "output_type": "execute_result"
    }
   ],
   "source": [
    "np.sort(m, axis = 1)\n",
    "# sütunları kendi içerinde sıralar"
   ]
  },
  {
   "cell_type": "code",
   "execution_count": 52,
   "id": "e39eef31",
   "metadata": {},
   "outputs": [
    {
     "data": {
      "text/plain": [
       "array([[18.78984714,  9.06751796, 18.52344768],\n",
       "       [22.02783243, 10.29144108, 21.47678171],\n",
       "       [22.31738579, 18.08519457, 22.56044484]])"
      ]
     },
     "execution_count": 52,
     "metadata": {},
     "output_type": "execute_result"
    }
   ],
   "source": [
    "np.sort(m, axis = 0)\n",
    "# satırları kendi içerisnde sıralar"
   ]
  },
  {
   "cell_type": "code",
   "execution_count": null,
   "id": "9635b2c5",
   "metadata": {},
   "outputs": [],
   "source": []
  }
 ],
 "metadata": {
  "kernelspec": {
   "display_name": "Python 3",
   "language": "python",
   "name": "python3"
  },
  "language_info": {
   "codemirror_mode": {
    "name": "ipython",
    "version": 3
   },
   "file_extension": ".py",
   "mimetype": "text/x-python",
   "name": "python",
   "nbconvert_exporter": "python",
   "pygments_lexer": "ipython3",
   "version": "3.8.8"
  }
 },
 "nbformat": 4,
 "nbformat_minor": 5
}
