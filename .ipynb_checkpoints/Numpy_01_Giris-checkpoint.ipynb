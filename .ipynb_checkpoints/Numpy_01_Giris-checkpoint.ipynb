{
 "cells": [
  {
   "cell_type": "markdown",
   "id": "4e84a740",
   "metadata": {},
   "source": [
    "## Numpy Nedir?"
   ]
  },
  {
   "cell_type": "markdown",
   "id": "2f276421",
   "metadata": {},
   "source": [
    "Numpy, Numerical Python kelimelerinden ismini alan Python programlama dili kütüphanesidir. Numpy kütüphanesi ile Çok boyutlu diziler ve matrisler ile çalışıp, matematiksel işlemler yapabilirisiniz. Bu yaptığınız işlemler Python dili içerisinde bulunan liste yapılarına ve matematiksel işlemlere göre çok daha verimli ve hızlı bir şekilde gerçekleşmesine olanak sağlar.\n",
    "<br><br>\n",
    "Python dili içerisinde bulunan liste yapılarından daha verimli bir şekilde kullanabileceğimiz, Çok boyutlu diziler, matrisler ile çalışmamıza ve matematiksel işlemleri çok hızlı bir biçimde yapabilmemize olanak sağlar."
   ]
  },
  {
   "cell_type": "code",
   "execution_count": 1,
   "id": "e056c87a",
   "metadata": {},
   "outputs": [],
   "source": [
    "a = [1, 2, 3, 4]\n",
    "b = [2, 3, 4, 5]"
   ]
  },
  {
   "cell_type": "code",
   "execution_count": 3,
   "id": "5748a15b",
   "metadata": {},
   "outputs": [
    {
     "data": {
      "text/plain": [
       "[2, 6, 12, 20]"
      ]
     },
     "execution_count": 3,
     "metadata": {},
     "output_type": "execute_result"
    }
   ],
   "source": [
    "ab = []\n",
    "\n",
    "for i in range(0, len(a)):\n",
    "    ab.append(a[i]*b[i])\n",
    "    \n",
    "ab"
   ]
  },
  {
   "cell_type": "markdown",
   "id": "b70501bc",
   "metadata": {},
   "source": [
    "Aynı işlemlerin numpy ile yapılışı..."
   ]
  },
  {
   "cell_type": "code",
   "execution_count": 4,
   "id": "08fc063e",
   "metadata": {},
   "outputs": [],
   "source": [
    "import numpy as np"
   ]
  },
  {
   "cell_type": "code",
   "execution_count": 5,
   "id": "55cfc51b",
   "metadata": {},
   "outputs": [],
   "source": [
    "a = np.array([1, 2, 3, 4])\n",
    "b = np.array([2, 3, 4, 5])"
   ]
  },
  {
   "cell_type": "code",
   "execution_count": 6,
   "id": "575e6723",
   "metadata": {},
   "outputs": [
    {
     "data": {
      "text/plain": [
       "array([ 2,  6, 12, 20])"
      ]
     },
     "execution_count": 6,
     "metadata": {},
     "output_type": "execute_result"
    }
   ],
   "source": [
    "a*b"
   ]
  },
  {
   "cell_type": "code",
   "execution_count": 7,
   "id": "a2eda0f3",
   "metadata": {},
   "outputs": [
    {
     "data": {
      "text/plain": [
       "numpy.ndarray"
      ]
     },
     "execution_count": 7,
     "metadata": {},
     "output_type": "execute_result"
    }
   ],
   "source": [
    "b = a*b\n",
    "type(b)"
   ]
  },
  {
   "cell_type": "code",
   "execution_count": 10,
   "id": "5b85e82e",
   "metadata": {},
   "outputs": [
    {
     "data": {
      "text/plain": [
       "array([4.14, 2.  , 3.  , 5.  ])"
      ]
     },
     "execution_count": 10,
     "metadata": {},
     "output_type": "execute_result"
    }
   ],
   "source": [
    "# numpy içerisinde tek tip veri kaydeder\n",
    "\n",
    "np.array([4.14, 2, 3, 5])\n",
    "\n",
    "# 4.14 değişkeni ondalıklı olduğu için tüm değerler float olarka tutulur"
   ]
  },
  {
   "cell_type": "code",
   "execution_count": 11,
   "id": "9df07651",
   "metadata": {},
   "outputs": [
    {
     "data": {
      "text/plain": [
       "array([1., 2., 3., 4.])"
      ]
     },
     "execution_count": 11,
     "metadata": {},
     "output_type": "execute_result"
    }
   ],
   "source": [
    "# numpy arrayleri oluşturulurken veri tipi belirtilebilir\n",
    "\n",
    "np.array([1, 2, 3, 4], dtype=\"float\")"
   ]
  },
  {
   "cell_type": "code",
   "execution_count": 13,
   "id": "b8baeb5a",
   "metadata": {},
   "outputs": [
    {
     "data": {
      "text/plain": [
       "array([0., 0., 0., 0., 0.])"
      ]
     },
     "execution_count": 13,
     "metadata": {},
     "output_type": "execute_result"
    }
   ],
   "source": [
    "# sıfırlardan array oluşturmak\n",
    "\n",
    "np.zeros(5)\n",
    "\n",
    "# bu şekilde değerleir sıfır olan 5 elemanlı bir numpy array oluşturulabilir"
   ]
  },
  {
   "cell_type": "code",
   "execution_count": 14,
   "id": "e93de2a8",
   "metadata": {},
   "outputs": [
    {
     "data": {
      "text/plain": [
       "array([1., 1., 1., 1., 1.])"
      ]
     },
     "execution_count": 14,
     "metadata": {},
     "output_type": "execute_result"
    }
   ],
   "source": [
    "np.ones(5)"
   ]
  },
  {
   "cell_type": "code",
   "execution_count": 15,
   "id": "68efd93f",
   "metadata": {},
   "outputs": [
    {
     "data": {
      "text/plain": [
       "array([1, 1, 1, 1, 1])"
      ]
     },
     "execution_count": 15,
     "metadata": {},
     "output_type": "execute_result"
    }
   ],
   "source": [
    "np.ones(5, dtype=\"int\")"
   ]
  },
  {
   "cell_type": "code",
   "execution_count": 18,
   "id": "79647b68",
   "metadata": {},
   "outputs": [
    {
     "data": {
      "text/plain": [
       "array([[1., 1., 1., 1., 1.],\n",
       "       [1., 1., 1., 1., 1.],\n",
       "       [1., 1., 1., 1., 1.]])"
      ]
     },
     "execution_count": 18,
     "metadata": {},
     "output_type": "execute_result"
    }
   ],
   "source": [
    "# iki boyutlu numpy array oluşturmak (3 satır, 5 sütun)\n",
    "\n",
    "np.ones((3, 5))"
   ]
  },
  {
   "cell_type": "code",
   "execution_count": 19,
   "id": "505fd23b",
   "metadata": {},
   "outputs": [
    {
     "data": {
      "text/plain": [
       "array([[3, 3, 3, 3, 3],\n",
       "       [3, 3, 3, 3, 3],\n",
       "       [3, 3, 3, 3, 3]])"
      ]
     },
     "execution_count": 19,
     "metadata": {},
     "output_type": "execute_result"
    }
   ],
   "source": [
    "# 3 değerindne oluşan 3 satırlı ve 5 sütunlu numpy array\n",
    "\n",
    "np.full((3, 5), 3)"
   ]
  },
  {
   "cell_type": "code",
   "execution_count": 21,
   "id": "c5ea8294",
   "metadata": {},
   "outputs": [
    {
     "data": {
      "text/plain": [
       "array([ 0,  3,  6,  9, 12, 15, 18, 21, 24, 27])"
      ]
     },
     "execution_count": 21,
     "metadata": {},
     "output_type": "execute_result"
    }
   ],
   "source": [
    "# 3'er atlayark 0' dan 30' a kadar olan değerler ile numpy array oluşturu\n",
    "\n",
    "np.arange(0, 30, 3)"
   ]
  },
  {
   "cell_type": "code",
   "execution_count": 23,
   "id": "c8a78c87",
   "metadata": {},
   "outputs": [
    {
     "data": {
      "text/plain": [
       "array([0.  , 0.25, 0.5 , 0.75, 1.  ])"
      ]
     },
     "execution_count": 23,
     "metadata": {},
     "output_type": "execute_result"
    }
   ],
   "source": [
    "# 0 ile 1 değer aralığını 5 eşit parçaya böler\n",
    "\n",
    "np.linspace(0, 1, 5)"
   ]
  },
  {
   "cell_type": "code",
   "execution_count": 24,
   "id": "579f0a9e",
   "metadata": {},
   "outputs": [
    {
     "data": {
      "text/plain": [
       "array([[12.91453864,  7.46274508, 12.414291  , 16.39896774],\n",
       "       [17.22062739,  7.6181949 , 10.06881858,  7.1276192 ],\n",
       "       [ 8.46027498,  9.56695   , 17.16736548,  9.20590683]])"
      ]
     },
     "execution_count": 24,
     "metadata": {},
     "output_type": "execute_result"
    }
   ],
   "source": [
    "# ortalaması 10, standart sapması 4 olan 3 sütuna ve 4 satıra sahip numpy array oluşturu\n",
    "\n",
    "np.random.normal(10, 4, (3, 4))"
   ]
  },
  {
   "cell_type": "code",
   "execution_count": 25,
   "id": "417268f1",
   "metadata": {},
   "outputs": [
    {
     "data": {
      "text/plain": [
       "array([[4, 0, 7],\n",
       "       [6, 2, 1],\n",
       "       [8, 0, 2]])"
      ]
     },
     "execution_count": 25,
     "metadata": {},
     "output_type": "execute_result"
    }
   ],
   "source": [
    "# 0 ile 10 değerleri aralığında 3 sütuna ve 3 satıra sahip numpy array oluşturur\n",
    "\n",
    "np.random.randint(0, 10, (3,3))"
   ]
  },
  {
   "cell_type": "code",
   "execution_count": null,
   "id": "548c1ce6",
   "metadata": {},
   "outputs": [],
   "source": []
  }
 ],
 "metadata": {
  "kernelspec": {
   "display_name": "Python 3",
   "language": "python",
   "name": "python3"
  },
  "language_info": {
   "codemirror_mode": {
    "name": "ipython",
    "version": 3
   },
   "file_extension": ".py",
   "mimetype": "text/x-python",
   "name": "python",
   "nbconvert_exporter": "python",
   "pygments_lexer": "ipython3",
   "version": "3.8.8"
  }
 },
 "nbformat": 4,
 "nbformat_minor": 5
}
